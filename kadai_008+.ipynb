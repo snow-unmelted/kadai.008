{
  "nbformat": 4,
  "nbformat_minor": 0,
  "metadata": {
    "colab": {
      "provenance": []
    },
    "kernelspec": {
      "name": "python3",
      "display_name": "Python 3"
    },
    "language_info": {
      "name": "python"
    }
  },
  "cells": [
    {
      "cell_type": "code",
      "execution_count": null,
      "metadata": {
        "colab": {
          "base_uri": "https://localhost:8080/"
        },
        "id": "_iYqCWrctLUV",
        "outputId": "baf73209-7a84-4e64-f09a-8c4cbcbff01a"
      },
      "outputs": [
        {
          "output_type": "stream",
          "name": "stdout",
          "text": [
            "変数numは１０より大きいです\n"
          ]
        }
      ],
      "source": [
        "num=50\n",
        "\n",
        "#変数numが10より大きいなら、文字列を出力する\n",
        "if 10<num:\n",
        "  print(\"変数numは１０より大きいです\")\n",
        "\n",
        "#変数numが20より小さいなら、文字列を出力する\n",
        "if num<20:\n",
        "  print(\"変数numは２０より小さいです\")\n"
      ]
    },
    {
      "cell_type": "code",
      "source": [
        "print(40+18)\n",
        "print(45>18)\n",
        "print(\"5\"==5)\n",
        "\n",
        "num1=5\n",
        "num2=\"5\"\n",
        "if num1==int(num2):\n",
        "  print(\"num1とnum2は等しいです\")"
      ],
      "metadata": {
        "colab": {
          "base_uri": "https://localhost:8080/"
        },
        "id": "KEwJWTKhR8Eg",
        "outputId": "7737f823-8d77-43ec-8f41-92513f554bc2"
      },
      "execution_count": null,
      "outputs": [
        {
          "output_type": "stream",
          "name": "stdout",
          "text": [
            "58\n",
            "True\n",
            "False\n",
            "num1とnum2は等しいです\n"
          ]
        }
      ]
    },
    {
      "cell_type": "code",
      "source": [
        "#ランダムな整数を利用するために、ramdomモジュールをインポート\n",
        "import random\n",
        "\n",
        "#変数numに0～4までのランダムな整数を代入する\n",
        "num=random.randint(0,4)\n",
        "\n",
        "#変数numの値を出力\n",
        "print(num)\n",
        "\n",
        "#変数numの値が4であれば「大当たりです」という文字列を出力する\n",
        "if num==4:\n",
        "  print(\"大当たりです\")\n",
        "\n",
        "#変数numの値が４であれば「当たりです」という文字列を出力する\n",
        "elif num==3:\n",
        "  print(\"あたりです\")\n",
        "\n",
        "#それ以外の時は「はずれです」という文字列を出力する\n",
        "else:\n",
        "  print(\"はずれです\")"
      ],
      "metadata": {
        "colab": {
          "base_uri": "https://localhost:8080/"
        },
        "id": "IJnBeD6RXqgG",
        "outputId": "64291e1e-edf0-4231-a339-7dab810b1d8d"
      },
      "execution_count": null,
      "outputs": [
        {
          "output_type": "stream",
          "name": "stdout",
          "text": [
            "2\n",
            "はずれです\n"
          ]
        }
      ]
    },
    {
      "cell_type": "code",
      "source": [
        "#ランダムな整数を利用するために、randomモジュールをインポート\n",
        "import random\n",
        "\n",
        "#変数numに０～４までのランダムな整数を代入する\n",
        "num=random.randint(0,4)\n",
        "\n",
        "#変数numの値を出力\n",
        "print(num)\n",
        "\n",
        "#すべての条件が成り立つ場合にのみ処理を行う(変数numの値が2)\n",
        "if num>1 and num<3:\n",
        "  print(\"変数numは１より大きく,3より小さいです\")\n",
        "else:\n",
        "  print(\"and条件が成り立ちませんでした\")\n",
        "\n",
        "#1つでも条件が成り立てば処理を行う(変数numの値の値が1または3)\n",
        "if num==1 or num==3:\n",
        "  print(\"変数numは1または3です\")\n",
        "else:\n",
        "  print(\"or条件が成り立ちませんでした\")"
      ],
      "metadata": {
        "colab": {
          "base_uri": "https://localhost:8080/"
        },
        "id": "G2lV_TEDZ8gC",
        "outputId": "70b9458f-1a7a-4de2-ae32-a1e8f2262bc1"
      },
      "execution_count": null,
      "outputs": [
        {
          "output_type": "stream",
          "name": "stdout",
          "text": [
            "3\n",
            "and条件が成り立ちませんでした\n",
            "変数numは1または3です\n"
          ]
        }
      ]
    },
    {
      "cell_type": "code",
      "source": [
        "#変数varが3の倍数の場合はFizz、5の倍数の場合はBuzz、3と5の倍数の場合はFizzBuzz、それ以外の場合は変数varを出力する条件式を変数varが3の倍数の場合はFizz、5の倍数の場合はBuzz、3と5の倍数の場合はFizzBuzz、それ以外の場合は変数varを出力する\n",
        "import random\n",
        "\n",
        "num=random.randint(0,99999)\n",
        "\n",
        "print(num)\n",
        "\n",
        "if num%3==0 and num%5==0:\n",
        "  print(\"FizzBuzz\")\n",
        "elif num%5==0:\n",
        "  print(\"Buzz\")\n",
        "elif num%3==0:\n",
        "  print(\"Fizz\")\n",
        "else:\n",
        "  print(num)"
      ],
      "metadata": {
        "colab": {
          "base_uri": "https://localhost:8080/"
        },
        "id": "8yanScSlcket",
        "outputId": "aa6420e0-9c57-4654-8472-4f11e00d51d4"
      },
      "execution_count": 36,
      "outputs": [
        {
          "output_type": "stream",
          "name": "stdout",
          "text": [
            "11730\n",
            "FizzBuzz\n"
          ]
        }
      ]
    }
  ]
}